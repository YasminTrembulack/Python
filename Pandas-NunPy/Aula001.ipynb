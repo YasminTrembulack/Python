{
 "cells": [
  {
   "cell_type": "code",
   "execution_count": 1,
   "metadata": {},
   "outputs": [],
   "source": [
    "import numpy as np"
   ]
  },
  {
   "cell_type": "code",
   "execution_count": null,
   "metadata": {},
   "outputs": [],
   "source": [
    "my_array = np.array([1, 2, 3, 4, 5])\n",
    "# print(my_array)\n",
    "\n",
    "# shape retorna uma tupla que indica as dimenções do array.\n",
    "# print(my_array.shape)\n",
    "\n",
    "my_array = np.array([[1, 2, 3, 4, 5], [1, 2, 3, 4, 5]])\n",
    "# print(my_array.shape)\n",
    "# retorna que temos 2 dimenções com 5 elementos."
   ]
  },
  {
   "cell_type": "code",
   "execution_count": null,
   "metadata": {},
   "outputs": [],
   "source": [
    "# np.arange, criar um array com valoes uniformemente distribuidos dentro do intervalo\n",
    "# np.range(start, stop, step, dtype=None)\n",
    "my_array = np.arange(1, 10)\n",
    "# print(my_array)\n",
    "\n",
    "#reshap para redimensionar o array\n",
    "a = np.arange(10).reshape((2, 5))\n",
    "# print(a)\n",
    "b = np.array([[1, 2, 3],\n",
    "          [1, 2, 3],\n",
    "          [1, 2, 3],\n",
    "          [1, 2, 3],\n",
    "          [1, 2, 3],\n",
    "          [1, 2, 3],]).reshape((3, 6))\n",
    "# print(b)"
   ]
  },
  {
   "cell_type": "code",
   "execution_count": null,
   "metadata": {},
   "outputs": [],
   "source": [
    "lst = [1, 2, 3.8, 4, 5, 6.4, 7.1, 8, 9 ]\n",
    "v = np.array(lst)\n",
    "v = v * 2\n",
    "# print(v)\n",
    "\n",
    "my_array = np.full((3, 3), True)\n",
    "# print(my_array)"
   ]
  },
  {
   "cell_type": "code",
   "execution_count": null,
   "metadata": {},
   "outputs": [],
   "source": [
    "a = np.array([[1, 2], [3, 4], [5, 6]])\n",
    "# print(a[[0, 1, 2], [0, 1, 0]])\n",
    "# print(np.array([a[0, 0], a[1, 1], a[2, 0]]))\n",
    "\n",
    "# print(a[[0, 0], [1, 1]])\n",
    "# print(np.array([a[0, 1], a[0, 1]]))"
   ]
  },
  {
   "cell_type": "code",
   "execution_count": null,
   "metadata": {},
   "outputs": [],
   "source": [
    "#Cria um novo array\n",
    "a = np.array([[1, 2, 3], [4, 5, 6], [7, 8, 9], [10, 11, 12]])\n",
    "#Cria um array de index\n",
    "b = np.array([0, 2, 0, 1])\n",
    "#é selecionado um elemento de cada linha usando os indices b\n",
    "# print(a[np.arange(4), b])\n",
    "#Muda o valor dos elementos de cada linha usando os indeces de b\n",
    "a[np.arange(4), b] += 10\n",
    "# print(a)"
   ]
  },
  {
   "cell_type": "code",
   "execution_count": null,
   "metadata": {},
   "outputs": [],
   "source": [
    "#cria um novo array.E encontra os elementos que são maiores que 2, retornando um array bool\n",
    "bool_idx = (a>2)\n",
    "# print(bool_idx)\n",
    "#Cria um array com os elementos correspondentes com valores True no array anterior\n",
    "# print(a[bool_idx])\n",
    "#Mesma cois que anteriormente mas de outra forma\n",
    "# print(a[a>2])"
   ]
  },
  {
   "cell_type": "code",
   "execution_count": null,
   "metadata": {},
   "outputs": [],
   "source": [
    "#Retorna o tipo do array\n",
    "# print(a.dtype) \n",
    "#force esse array a se tornar um int\n",
    "x = np.array([1.4, 2], dtype= np.int64)\n",
    "# print(x)\n",
    "\n",
    "b = a[a % 2 != 0]\n",
    "# print(b)\n",
    "\n",
    "#substitui todos os elementos impares do array a por -1\n",
    "a[a % 2 != 0] = -1\n",
    "# print(a)"
   ]
  },
  {
   "cell_type": "code",
   "execution_count": null,
   "metadata": {},
   "outputs": [],
   "source": [
    "x = np.array([[1, 2], [3, 4]], dtype= np.float64)\n",
    "y = np.array([[5, 6], [7, 8]], dtype= np.float64)\n",
    "\n",
    "# print(x+y)\n",
    "# print(np.add(x, y))\n",
    "\n",
    "# print(x-y)\n",
    "# print(np.subtract(x, y))\n",
    "\n",
    "# print(x*y)\n",
    "# print(np.multiply(x, y))\n",
    "\n",
    "# print(x/y)\n",
    "# print(np.divide(x, y))\n",
    "\n",
    "# print(np.sqrt(x))"
   ]
  },
  {
   "cell_type": "code",
   "execution_count": null,
   "metadata": {},
   "outputs": [],
   "source": [
    "x = np.array([[1, 2], [3, 4]])\n",
    "y = np.array([[5, 6], [7, 8]])\n",
    "\n",
    "v = np.array([9, 10])\n",
    "w = np.array([11, 12])\n",
    "\n",
    "# print(v.dot(w))\n",
    "# print(np.dot(v, w))\n",
    "\n",
    "# print(w.dot(v))\n",
    "# print(np.dot(w, v))\n",
    "\n",
    "# print(x.dot(y))\n",
    "# print(np.dot(x, y))"
   ]
  },
  {
   "cell_type": "code",
   "execution_count": null,
   "metadata": {},
   "outputs": [],
   "source": [
    "x = np.array([[1, 2, 3], \n",
    "              [2, 2, 2], \n",
    "              [3, 3, 3]])\n",
    "\n",
    "y = np.array([[3, 2, 1], \n",
    "              [1, 2, 3], \n",
    "              [-1, -2, -3]])\n",
    "r = x * y\n",
    "# print(r)\n",
    "\n",
    "ma = np.mat(x)\n",
    "mb = np.mat(y)\n",
    "r = ma * mb\n",
    "# print(r)\n"
   ]
  },
  {
   "cell_type": "code",
   "execution_count": null,
   "metadata": {},
   "outputs": [],
   "source": [
    "# print(np.sum(x)) # soma a matrix\n",
    "# print(np.sum(x, axis=0)) #soma as colunas\n",
    "# print(np.sum(x, axis=1)) #soma as linhas\n",
    "\n",
    "# print(x.T) # transpor uma matriz, transformar as linhas em colunas"
   ]
  },
  {
   "cell_type": "code",
   "execution_count": null,
   "metadata": {},
   "outputs": [],
   "source": [
    "x = np.array([[1, 2, 3], [4, 5, 6], [7, 6, 8], [9, 10, 11]])\n",
    "v = np.array([1, 0, 1])\n",
    "print(x)\n",
    "\n",
    "#cria um array igual ao array x\n",
    "y = np.empty_like(x)\n",
    "\n",
    "for i in range(4):\n",
    "    y[i,:] = x[i,:] + v\n",
    "#realiza 4 vezes, por ser 4 linhas, soma v na matrix x\n",
    "print(y)"
   ]
  },
  {
   "cell_type": "code",
   "execution_count": 8,
   "metadata": {},
   "outputs": [
    {
     "name": "stdout",
     "output_type": "stream",
     "text": [
      "[[1 0 1]\n",
      " [1 0 1]\n",
      " [1 0 1]\n",
      " [1 0 1]]\n",
      "[[ 2  2  4]\n",
      " [ 5  5  7]\n",
      " [ 8  6  9]\n",
      " [10 10 12]]\n"
     ]
    }
   ],
   "source": [
    "x = np.array([[1, 2, 3], [4, 5, 6], [7, 6, 8], [9, 10, 11]])\n",
    "v = np.array([1, 0, 1])\n",
    "vv = np.tile( v, (4, 1))\n",
    "# Primeira dimensão (4): indica que o array v será repetido 4 vezes ao longo das linhas.\n",
    "# Segunda dimensão (1): indica que o array v será repetido 1 vez ao longo das colunas.\n",
    "print(vv)\n",
    "\n",
    "y = x + vv\n",
    "print(y)"
   ]
  },
  {
   "cell_type": "code",
   "execution_count": 9,
   "metadata": {},
   "outputs": [
    {
     "name": "stdout",
     "output_type": "stream",
     "text": [
      "[[7. 4. 7. 6.]\n",
      " [8. 3. 6. 7.]\n",
      " [0. 7. 9. 9.]]\n",
      "[[ True  True  True  True]\n",
      " [ True  True  True  True]\n",
      " [False  True  True  True]]\n"
     ]
    }
   ],
   "source": [
    "a = np.floor(10 * np.random.random((3, 4)))\n",
    "print(a)\n",
    "# a função floor limita para que os numeros gerados pelo random sejam inteiros\n",
    "x = True\n",
    "y =  False\n",
    "print(np.where(a>2, x, y))\n",
    "#a função retonara x caso a condição for verdadeira e y para quando for falsa"
   ]
  },
  {
   "cell_type": "code",
   "execution_count": 11,
   "metadata": {},
   "outputs": [
    {
     "name": "stdout",
     "output_type": "stream",
     "text": [
      "[[-1  2 -1]\n",
      " [ 4 -1  6]\n",
      " [-1  8 -1]]\n"
     ]
    }
   ],
   "source": [
    "x = np.array([[1, 2, 3], [4, 5, 6], [7, 8, 9]])\n",
    "print(np.where(x % 2 != 0, -1, x))"
   ]
  },
  {
   "cell_type": "code",
   "execution_count": 14,
   "metadata": {},
   "outputs": [
    {
     "name": "stdout",
     "output_type": "stream",
     "text": [
      "[ 1.          1.18367347  1.36734694  1.55102041  1.73469388  1.91836735\n",
      "  2.10204082  2.28571429  2.46938776  2.65306122  2.83673469  3.02040816\n",
      "  3.20408163  3.3877551   3.57142857  3.75510204  3.93877551  4.12244898\n",
      "  4.30612245  4.48979592  4.67346939  4.85714286  5.04081633  5.2244898\n",
      "  5.40816327  5.59183673  5.7755102   5.95918367  6.14285714  6.32653061\n",
      "  6.51020408  6.69387755  6.87755102  7.06122449  7.24489796  7.42857143\n",
      "  7.6122449   7.79591837  7.97959184  8.16326531  8.34693878  8.53061224\n",
      "  8.71428571  8.89795918  9.08163265  9.26530612  9.44897959  9.63265306\n",
      "  9.81632653 10.        ]\n",
      "[ 1.   2.5  4.   5.5  7.   8.5 10. ]\n",
      "[1.         2.28571429 3.57142857 4.85714286 6.14285714 7.42857143\n",
      " 8.71428571]\n"
     ]
    }
   ],
   "source": [
    "\n",
    "#criar arrays com valores espaçados\n",
    "print(np.linspace(1, 10)) #1: valor inicial. 10: valor final.\n",
    "#O comportamento padrão do np.linspace é gerar 50 valores quando o número de elementos não é especificado.\n",
    "print(np.linspace(1, 10, 7)) #número de valores que você quer gerar.\n",
    "print(np.linspace(1, 10, 7, endpoint=False)) #significa que o valor 10 será excluído do array."
   ]
  }
 ],
 "metadata": {
  "kernelspec": {
   "display_name": "Python 3",
   "language": "python",
   "name": "python3"
  },
  "language_info": {
   "codemirror_mode": {
    "name": "ipython",
    "version": 3
   },
   "file_extension": ".py",
   "mimetype": "text/x-python",
   "name": "python",
   "nbconvert_exporter": "python",
   "pygments_lexer": "ipython3",
   "version": "3.12.1"
  }
 },
 "nbformat": 4,
 "nbformat_minor": 2
}
