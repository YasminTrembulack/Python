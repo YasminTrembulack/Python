{
 "cells": [
  {
   "cell_type": "code",
   "execution_count": 43,
   "metadata": {},
   "outputs": [],
   "source": [
    "import pandas as pd\n",
    "import numpy as np"
   ]
  },
  {
   "cell_type": "code",
   "execution_count": 44,
   "metadata": {},
   "outputs": [
    {
     "data": {
      "text/plain": [
       "'Exemplo 1'"
      ]
     },
     "execution_count": 44,
     "metadata": {},
     "output_type": "execute_result"
    }
   ],
   "source": [
    "ser1 = pd.Series([9, 9, 9], name=\"Exemplo 1\")\n",
    "# print(ser1)\n",
    "ser1.values\n",
    "ser1.index\n",
    "ser1.name"
   ]
  },
  {
   "cell_type": "code",
   "execution_count": 45,
   "metadata": {},
   "outputs": [
    {
     "name": "stdout",
     "output_type": "stream",
     "text": [
      "Ron          5\n",
      "Hermione    10\n",
      "Draco        6\n",
      "Harry        7\n",
      "Ginny        8\n",
      "Name: Harry Potter, dtype: int64\n"
     ]
    },
    {
     "data": {
      "text/plain": [
       "10"
      ]
     },
     "execution_count": 45,
     "metadata": {},
     "output_type": "execute_result"
    }
   ],
   "source": [
    "ser2 = pd.Series([5, 10, 6, 7, 8], name=\"Harry Potter\",\n",
    "    index=[\"Ron\", \"Hermione\", \"Draco\", \"Harry\", \"Ginny\"])\n",
    "print(ser2)\n",
    "\n",
    "ser2['Hermione']"
   ]
  },
  {
   "cell_type": "code",
   "execution_count": 46,
   "metadata": {},
   "outputs": [
    {
     "name": "stdout",
     "output_type": "stream",
     "text": [
      "Media:  7.2\n",
      "Desvio padrão:  1.9235384061671346\n"
     ]
    }
   ],
   "source": [
    "print(\"Media: \", ser2.mean())\n",
    "print(\"Desvio padrão: \", ser2.std())"
   ]
  },
  {
   "cell_type": "code",
   "execution_count": 47,
   "metadata": {},
   "outputs": [
    {
     "data": {
      "text/plain": [
       "Hermione    10\n",
       "Ginny        8\n",
       "Name: Harry Potter, dtype: int64"
      ]
     },
     "execution_count": 47,
     "metadata": {},
     "output_type": "execute_result"
    }
   ],
   "source": [
    "ser2**2\n",
    "np.log(ser2)\n",
    "ser2[ser2 > ser2.mean()]"
   ]
  },
  {
   "cell_type": "code",
   "execution_count": 48,
   "metadata": {},
   "outputs": [
    {
     "data": {
      "text/plain": [
       "a    0.113178\n",
       "b    0.610630\n",
       "c    0.909363\n",
       "d    0.154184\n",
       "e    0.203945\n",
       "dtype: float64"
      ]
     },
     "execution_count": 48,
     "metadata": {},
     "output_type": "execute_result"
    }
   ],
   "source": [
    "s = pd.Series(np.random.random(5), index=['a', 'b', 'c', 'd', 'e'])\n",
    "s"
   ]
  },
  {
   "cell_type": "code",
   "execution_count": 49,
   "metadata": {},
   "outputs": [
    {
     "data": {
      "text/plain": [
       "b    1\n",
       "a    0\n",
       "c    2\n",
       "dtype: int64"
      ]
     },
     "execution_count": 49,
     "metadata": {},
     "output_type": "execute_result"
    }
   ],
   "source": [
    "d = {'b': 1, 'a': 0, 'c': 2}\n",
    "pd.Series(d)"
   ]
  },
  {
   "cell_type": "code",
   "execution_count": null,
   "metadata": {},
   "outputs": [],
   "source": [
    "ser1 = pd.Series(list('abcdefghijklmnopqrstuvwxyz'))\n",
    "ser2 = pd.Series(np.arange(26))\n",
    "df = pd.DataFrame(ser1, ser2)\n",
    "df"
   ]
  },
  {
   "cell_type": "code",
   "execution_count": 51,
   "metadata": {},
   "outputs": [
    {
     "data": {
      "text/html": [
       "<div>\n",
       "<style scoped>\n",
       "    .dataframe tbody tr th:only-of-type {\n",
       "        vertical-align: middle;\n",
       "    }\n",
       "\n",
       "    .dataframe tbody tr th {\n",
       "        vertical-align: top;\n",
       "    }\n",
       "\n",
       "    .dataframe thead th {\n",
       "        text-align: right;\n",
       "    }\n",
       "</style>\n",
       "<table border=\"1\" class=\"dataframe\">\n",
       "  <thead>\n",
       "    <tr style=\"text-align: right;\">\n",
       "      <th></th>\n",
       "      <th>Aluno</th>\n",
       "      <th>Faltas</th>\n",
       "      <th>Prova</th>\n",
       "      <th>Seminário</th>\n",
       "    </tr>\n",
       "  </thead>\n",
       "  <tbody>\n",
       "    <tr>\n",
       "      <th>0</th>\n",
       "      <td>Ron</td>\n",
       "      <td>3</td>\n",
       "      <td>5</td>\n",
       "      <td>7.5</td>\n",
       "    </tr>\n",
       "    <tr>\n",
       "      <th>1</th>\n",
       "      <td>Hermione</td>\n",
       "      <td>1</td>\n",
       "      <td>10</td>\n",
       "      <td>9.5</td>\n",
       "    </tr>\n",
       "    <tr>\n",
       "      <th>2</th>\n",
       "      <td>Draco</td>\n",
       "      <td>2</td>\n",
       "      <td>6</td>\n",
       "      <td>8.0</td>\n",
       "    </tr>\n",
       "    <tr>\n",
       "      <th>3</th>\n",
       "      <td>Harry</td>\n",
       "      <td>3</td>\n",
       "      <td>7</td>\n",
       "      <td>7.5</td>\n",
       "    </tr>\n",
       "    <tr>\n",
       "      <th>4</th>\n",
       "      <td>Ginny</td>\n",
       "      <td>1</td>\n",
       "      <td>9</td>\n",
       "      <td>8.0</td>\n",
       "    </tr>\n",
       "  </tbody>\n",
       "</table>\n",
       "</div>"
      ],
      "text/plain": [
       "      Aluno  Faltas  Prova  Seminário\n",
       "0       Ron       3      5        7.5\n",
       "1  Hermione       1     10        9.5\n",
       "2     Draco       2      6        8.0\n",
       "3     Harry       3      7        7.5\n",
       "4     Ginny       1      9        8.0"
      ]
     },
     "execution_count": 51,
     "metadata": {},
     "output_type": "execute_result"
    }
   ],
   "source": [
    "df = pd.DataFrame({'Aluno': [\"Ron\", \"Hermione\", \"Draco\", \"Harry\", \"Ginny\"],\n",
    "                   'Faltas': [3, 1, 2, 3, 1],\n",
    "                   'Prova': [5, 10, 6, 7, 9],\n",
    "                   'Seminário': [7.5, 9.5, 8.0, 7.5, 8.0]})\n",
    "df"
   ]
  },
  {
   "cell_type": "code",
   "execution_count": 55,
   "metadata": {},
   "outputs": [
    {
     "data": {
      "text/html": [
       "<div>\n",
       "<style scoped>\n",
       "    .dataframe tbody tr th:only-of-type {\n",
       "        vertical-align: middle;\n",
       "    }\n",
       "\n",
       "    .dataframe tbody tr th {\n",
       "        vertical-align: top;\n",
       "    }\n",
       "\n",
       "    .dataframe thead th {\n",
       "        text-align: right;\n",
       "    }\n",
       "</style>\n",
       "<table border=\"1\" class=\"dataframe\">\n",
       "  <thead>\n",
       "    <tr style=\"text-align: right;\">\n",
       "      <th></th>\n",
       "      <th>Aluno</th>\n",
       "      <th>Faltas</th>\n",
       "      <th>Prova</th>\n",
       "      <th>Seminário</th>\n",
       "      <th>Casa</th>\n",
       "    </tr>\n",
       "  </thead>\n",
       "  <tbody>\n",
       "    <tr>\n",
       "      <th>0</th>\n",
       "      <td>Ron</td>\n",
       "      <td>3</td>\n",
       "      <td>5</td>\n",
       "      <td>7.5</td>\n",
       "      <td>Grifinória</td>\n",
       "    </tr>\n",
       "    <tr>\n",
       "      <th>1</th>\n",
       "      <td>Hermione</td>\n",
       "      <td>1</td>\n",
       "      <td>10</td>\n",
       "      <td>9.5</td>\n",
       "      <td>Grifinória</td>\n",
       "    </tr>\n",
       "    <tr>\n",
       "      <th>2</th>\n",
       "      <td>Draco</td>\n",
       "      <td>2</td>\n",
       "      <td>6</td>\n",
       "      <td>8.0</td>\n",
       "      <td>Sonserina</td>\n",
       "    </tr>\n",
       "    <tr>\n",
       "      <th>3</th>\n",
       "      <td>Harry</td>\n",
       "      <td>3</td>\n",
       "      <td>7</td>\n",
       "      <td>7.5</td>\n",
       "      <td>Grifinória</td>\n",
       "    </tr>\n",
       "    <tr>\n",
       "      <th>4</th>\n",
       "      <td>Ginny</td>\n",
       "      <td>1</td>\n",
       "      <td>9</td>\n",
       "      <td>8.0</td>\n",
       "      <td>Grifinória</td>\n",
       "    </tr>\n",
       "  </tbody>\n",
       "</table>\n",
       "</div>"
      ],
      "text/plain": [
       "      Aluno  Faltas  Prova  Seminário        Casa\n",
       "0       Ron       3      5        7.5  Grifinória\n",
       "1  Hermione       1     10        9.5  Grifinória\n",
       "2     Draco       2      6        8.0   Sonserina\n",
       "3     Harry       3      7        7.5  Grifinória\n",
       "4     Ginny       1      9        8.0  Grifinória"
      ]
     },
     "execution_count": 55,
     "metadata": {},
     "output_type": "execute_result"
    }
   ],
   "source": [
    "df.columns\n",
    "df.dtypes\n",
    "df['Aluno']\n",
    "df['Casa'] = ['Grifinória', 'Grifinória', 'Sonserina', 'Grifinória', 'Grifinória']\n"
   ]
  },
  {
   "cell_type": "code",
   "execution_count": 56,
   "metadata": {},
   "outputs": [
    {
     "data": {
      "text/html": [
       "<div>\n",
       "<style scoped>\n",
       "    .dataframe tbody tr th:only-of-type {\n",
       "        vertical-align: middle;\n",
       "    }\n",
       "\n",
       "    .dataframe tbody tr th {\n",
       "        vertical-align: top;\n",
       "    }\n",
       "\n",
       "    .dataframe thead th {\n",
       "        text-align: right;\n",
       "    }\n",
       "</style>\n",
       "<table border=\"1\" class=\"dataframe\">\n",
       "  <thead>\n",
       "    <tr style=\"text-align: right;\">\n",
       "      <th></th>\n",
       "      <th>Aluno</th>\n",
       "      <th>Sobrenome</th>\n",
       "      <th>Faltas</th>\n",
       "      <th>Prova</th>\n",
       "      <th>Seminário</th>\n",
       "      <th>Casa</th>\n",
       "    </tr>\n",
       "  </thead>\n",
       "  <tbody>\n",
       "    <tr>\n",
       "      <th>0</th>\n",
       "      <td>Ron</td>\n",
       "      <td>Weasley</td>\n",
       "      <td>3</td>\n",
       "      <td>5</td>\n",
       "      <td>7.5</td>\n",
       "      <td>Grifinória</td>\n",
       "    </tr>\n",
       "    <tr>\n",
       "      <th>1</th>\n",
       "      <td>Hermione</td>\n",
       "      <td>Granger</td>\n",
       "      <td>1</td>\n",
       "      <td>10</td>\n",
       "      <td>9.5</td>\n",
       "      <td>Grifinória</td>\n",
       "    </tr>\n",
       "    <tr>\n",
       "      <th>2</th>\n",
       "      <td>Draco</td>\n",
       "      <td>Malfoy</td>\n",
       "      <td>2</td>\n",
       "      <td>6</td>\n",
       "      <td>8.0</td>\n",
       "      <td>Sonserina</td>\n",
       "    </tr>\n",
       "    <tr>\n",
       "      <th>3</th>\n",
       "      <td>Harry</td>\n",
       "      <td>Potter</td>\n",
       "      <td>3</td>\n",
       "      <td>7</td>\n",
       "      <td>7.5</td>\n",
       "      <td>Grifinória</td>\n",
       "    </tr>\n",
       "    <tr>\n",
       "      <th>4</th>\n",
       "      <td>Ginny</td>\n",
       "      <td>Weasley</td>\n",
       "      <td>1</td>\n",
       "      <td>9</td>\n",
       "      <td>8.0</td>\n",
       "      <td>Grifinória</td>\n",
       "    </tr>\n",
       "  </tbody>\n",
       "</table>\n",
       "</div>"
      ],
      "text/plain": [
       "      Aluno Sobrenome  Faltas  Prova  Seminário        Casa\n",
       "0       Ron   Weasley       3      5        7.5  Grifinória\n",
       "1  Hermione   Granger       1     10        9.5  Grifinória\n",
       "2     Draco    Malfoy       2      6        8.0   Sonserina\n",
       "3     Harry    Potter       3      7        7.5  Grifinória\n",
       "4     Ginny   Weasley       1      9        8.0  Grifinória"
      ]
     },
     "execution_count": 56,
     "metadata": {},
     "output_type": "execute_result"
    }
   ],
   "source": [
    "#inserir uma coluna em um lugar especifico\n",
    "df.insert(1, 'Sobrenome', ['Weasley', 'Granger', 'Malfoy', 'Potter', 'Weasley'])\n",
    "df\n",
    "\n",
    "# df.pop('Casa') # Remover uma coluna"
   ]
  },
  {
   "cell_type": "code",
   "execution_count": 65,
   "metadata": {},
   "outputs": [
    {
     "data": {
      "text/html": [
       "<div>\n",
       "<style scoped>\n",
       "    .dataframe tbody tr th:only-of-type {\n",
       "        vertical-align: middle;\n",
       "    }\n",
       "\n",
       "    .dataframe tbody tr th {\n",
       "        vertical-align: top;\n",
       "    }\n",
       "\n",
       "    .dataframe thead th {\n",
       "        text-align: right;\n",
       "    }\n",
       "</style>\n",
       "<table border=\"1\" class=\"dataframe\">\n",
       "  <thead>\n",
       "    <tr style=\"text-align: right;\">\n",
       "      <th></th>\n",
       "      <th>Aluno</th>\n",
       "      <th>Sobrenome</th>\n",
       "      <th>Faltas</th>\n",
       "      <th>Prova</th>\n",
       "      <th>Seminário</th>\n",
       "      <th>Casa</th>\n",
       "    </tr>\n",
       "  </thead>\n",
       "  <tbody>\n",
       "    <tr>\n",
       "      <th>1</th>\n",
       "      <td>Hermione</td>\n",
       "      <td>Granger</td>\n",
       "      <td>1</td>\n",
       "      <td>10</td>\n",
       "      <td>9.5</td>\n",
       "      <td>Grifinória</td>\n",
       "    </tr>\n",
       "  </tbody>\n",
       "</table>\n",
       "</div>"
      ],
      "text/plain": [
       "      Aluno Sobrenome  Faltas  Prova  Seminário        Casa\n",
       "1  Hermione   Granger       1     10        9.5  Grifinória"
      ]
     },
     "execution_count": 65,
     "metadata": {},
     "output_type": "execute_result"
    }
   ],
   "source": [
    "df.describe()\n",
    "df.sort_values(by='Seminário')\n",
    "df.loc[3] #selecionar valor especifico\n",
    "df[2:4] #selecionar linhas especificas\n",
    "df[df['Prova'] > 7]# selecionar linha com criterios adicionais\n",
    "df[(df['Prova'] > 7) & (df['Seminário'] > 8)] #mais de um criterio"
   ]
  },
  {
   "cell_type": "code",
   "execution_count": 66,
   "metadata": {},
   "outputs": [
    {
     "data": {
      "text/html": [
       "<div>\n",
       "<style scoped>\n",
       "    .dataframe tbody tr th:only-of-type {\n",
       "        vertical-align: middle;\n",
       "    }\n",
       "\n",
       "    .dataframe tbody tr th {\n",
       "        vertical-align: top;\n",
       "    }\n",
       "\n",
       "    .dataframe thead th {\n",
       "        text-align: right;\n",
       "    }\n",
       "</style>\n",
       "<table border=\"1\" class=\"dataframe\">\n",
       "  <thead>\n",
       "    <tr style=\"text-align: right;\">\n",
       "      <th></th>\n",
       "      <th>Aluno</th>\n",
       "      <th>Sobrenome</th>\n",
       "      <th>Faltas</th>\n",
       "      <th>Prova</th>\n",
       "      <th>Seminário</th>\n",
       "      <th>Casa</th>\n",
       "    </tr>\n",
       "  </thead>\n",
       "  <tbody>\n",
       "    <tr>\n",
       "      <th>0</th>\n",
       "      <td>Ron</td>\n",
       "      <td>Weasley</td>\n",
       "      <td>3</td>\n",
       "      <td>5.0</td>\n",
       "      <td>7.5</td>\n",
       "      <td>Grifinória</td>\n",
       "    </tr>\n",
       "    <tr>\n",
       "      <th>1</th>\n",
       "      <td>Hermione</td>\n",
       "      <td>Granger</td>\n",
       "      <td>1</td>\n",
       "      <td>10.0</td>\n",
       "      <td>9.5</td>\n",
       "      <td>Grifinória</td>\n",
       "    </tr>\n",
       "    <tr>\n",
       "      <th>2</th>\n",
       "      <td>Draco</td>\n",
       "      <td>Malfoy</td>\n",
       "      <td>2</td>\n",
       "      <td>6.0</td>\n",
       "      <td>8.0</td>\n",
       "      <td>Sonserina</td>\n",
       "    </tr>\n",
       "    <tr>\n",
       "      <th>3</th>\n",
       "      <td>Harry</td>\n",
       "      <td>Potter</td>\n",
       "      <td>3</td>\n",
       "      <td>7.0</td>\n",
       "      <td>7.5</td>\n",
       "      <td>Grifinória</td>\n",
       "    </tr>\n",
       "    <tr>\n",
       "      <th>4</th>\n",
       "      <td>Ginny</td>\n",
       "      <td>Weasley</td>\n",
       "      <td>1</td>\n",
       "      <td>9.0</td>\n",
       "      <td>8.0</td>\n",
       "      <td>Grifinória</td>\n",
       "    </tr>\n",
       "    <tr>\n",
       "      <th>0</th>\n",
       "      <td>Cedrico</td>\n",
       "      <td>NaN</td>\n",
       "      <td>2</td>\n",
       "      <td>8.0</td>\n",
       "      <td>8.5</td>\n",
       "      <td>NaN</td>\n",
       "    </tr>\n",
       "    <tr>\n",
       "      <th>1</th>\n",
       "      <td>Luna</td>\n",
       "      <td>NaN</td>\n",
       "      <td>1</td>\n",
       "      <td>7.5</td>\n",
       "      <td>6.5</td>\n",
       "      <td>NaN</td>\n",
       "    </tr>\n",
       "  </tbody>\n",
       "</table>\n",
       "</div>"
      ],
      "text/plain": [
       "      Aluno Sobrenome  Faltas  Prova  Seminário        Casa\n",
       "0       Ron   Weasley       3    5.0        7.5  Grifinória\n",
       "1  Hermione   Granger       1   10.0        9.5  Grifinória\n",
       "2     Draco    Malfoy       2    6.0        8.0   Sonserina\n",
       "3     Harry    Potter       3    7.0        7.5  Grifinória\n",
       "4     Ginny   Weasley       1    9.0        8.0  Grifinória\n",
       "0   Cedrico       NaN       2    8.0        8.5         NaN\n",
       "1      Luna       NaN       1    7.5        6.5         NaN"
      ]
     },
     "execution_count": 66,
     "metadata": {},
     "output_type": "execute_result"
    }
   ],
   "source": [
    "#concatenar duas estruturas de dados\n",
    "df2 = pd.DataFrame({ 'Aluno': [\"Cedrico\", \"Luna\"],\n",
    "                    'Faltas': [2, 1],\n",
    "                    'Prova': [8, 7.5],\n",
    "                    'Seminário': [8.5, 6.5]})\n",
    "pieces = [df, df2]\n",
    "pd.concat(pieces)\n",
    "\n",
    "# ------------------- SLIDE 24"
   ]
  }
 ],
 "metadata": {
  "kernelspec": {
   "display_name": "Python 3",
   "language": "python",
   "name": "python3"
  },
  "language_info": {
   "codemirror_mode": {
    "name": "ipython",
    "version": 3
   },
   "file_extension": ".py",
   "mimetype": "text/x-python",
   "name": "python",
   "nbconvert_exporter": "python",
   "pygments_lexer": "ipython3",
   "version": "3.12.1"
  }
 },
 "nbformat": 4,
 "nbformat_minor": 2
}
